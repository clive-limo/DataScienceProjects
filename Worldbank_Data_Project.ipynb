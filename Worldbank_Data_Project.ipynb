{
  "nbformat": 4,
  "nbformat_minor": 0,
  "metadata": {
    "colab": {
      "provenance": [],
      "authorship_tag": "ABX9TyNQRixBSQk7e5OVDe6+J+KI",
      "include_colab_link": true
    },
    "kernelspec": {
      "name": "python3",
      "display_name": "Python 3"
    },
    "language_info": {
      "name": "python"
    }
  },
  "cells": [
    {
      "cell_type": "markdown",
      "metadata": {
        "id": "view-in-github",
        "colab_type": "text"
      },
      "source": [
        "<a href=\"https://colab.research.google.com/github/clive-limo/DataScienceProjects/blob/main/Worldbank_Data_Project.ipynb\" target=\"_parent\"><img src=\"https://colab.research.google.com/assets/colab-badge.svg\" alt=\"Open In Colab\"/></a>"
      ]
    },
    {
      "cell_type": "markdown",
      "source": [
        "# **World Bank Analysis: Clustering and Filtering**"
      ],
      "metadata": {
        "id": "RO0S_UylrAsS"
      }
    },
    {
      "cell_type": "markdown",
      "source": [
        "# **Required Libraries**"
      ],
      "metadata": {
        "id": "DdFimscgrVUZ"
      }
    },
    {
      "cell_type": "code",
      "execution_count": null,
      "metadata": {
        "colab": {
          "base_uri": "https://localhost:8080/"
        },
        "id": "vqqnyjvdq6bZ",
        "outputId": "1d8e7e58-afd3-49fa-9f3d-e529d8f02587"
      },
      "outputs": [
        {
          "output_type": "stream",
          "name": "stdout",
          "text": [
            "Looking in indexes: https://pypi.org/simple, https://us-python.pkg.dev/colab-wheels/public/simple/\n",
            "Collecting wbgapi\n",
            "  Downloading wbgapi-1.0.10-py3-none-any.whl (36 kB)\n",
            "Requirement already satisfied: requests in /usr/local/lib/python3.7/dist-packages (from wbgapi) (2.23.0)\n",
            "Requirement already satisfied: PyYAML in /usr/local/lib/python3.7/dist-packages (from wbgapi) (3.13)\n",
            "Requirement already satisfied: tabulate in /usr/local/lib/python3.7/dist-packages (from wbgapi) (0.8.9)\n",
            "Requirement already satisfied: urllib3!=1.25.0,!=1.25.1,<1.26,>=1.21.1 in /usr/local/lib/python3.7/dist-packages (from requests->wbgapi) (1.24.3)\n",
            "Requirement already satisfied: certifi>=2017.4.17 in /usr/local/lib/python3.7/dist-packages (from requests->wbgapi) (2022.6.15)\n",
            "Requirement already satisfied: chardet<4,>=3.0.2 in /usr/local/lib/python3.7/dist-packages (from requests->wbgapi) (3.0.4)\n",
            "Requirement already satisfied: idna<3,>=2.5 in /usr/local/lib/python3.7/dist-packages (from requests->wbgapi) (2.10)\n",
            "Installing collected packages: wbgapi\n",
            "Successfully installed wbgapi-1.0.10\n"
          ]
        }
      ],
      "source": [
        "!pip install wbgapi"
      ]
    },
    {
      "cell_type": "code",
      "source": [
        "# Required Libraries\n",
        "import numpy as np\n",
        "import wbgapi as wb\n",
        "import pandas as pd\n",
        "import seaborn as sns\n",
        "import matplotlib.pyplot as plt\n",
        "from sklearn import preprocessing\n",
        "from sklearn.cluster import KMeans\n",
        "from scipy.optimize import curve_fit\n",
        "from pandas.core.arrays import integer\n",
        "from sklearn.metrics import silhouette_score, silhouette_samples\n",
        "sns.set(style=\"darkgrid\")"
      ],
      "metadata": {
        "id": "MHWLGICGrIW4"
      },
      "execution_count": null,
      "outputs": []
    },
    {
      "cell_type": "markdown",
      "source": [
        "# **Introduction**"
      ],
      "metadata": {
        "id": "qOqUDyQFroOK"
      }
    },
    {
      "cell_type": "markdown",
      "source": [
        "Global warming has become a major concern for most countries in the world. This is mainly due to the devastating effects that it has on the environment and climate. One of the main causes of global warming are greenhouse gases. These include gases such as: water vapor, carbon dioxide, methane and ozone. The most common among these, however, is carbon dioxide. CO2 makes up over 81% of the total greenhouse gasses emitted. After being released into the atmosphere, these gases can stay in the atmosphere either for a number of years or they can be there for thousands of years. Therefore, most countries are striving to reduce the level of emission they produce annually. This report will look at the progress made by several countries in terms of emissions by analyzing their emissions data. Also, the report will use the trends in the data to try and forecast the emission levels. "
      ],
      "metadata": {
        "id": "8u5xxJSfeCMe"
      }
    },
    {
      "cell_type": "markdown",
      "source": [
        "## **Loading Data**"
      ],
      "metadata": {
        "id": "uhbjGCBatXOi"
      }
    },
    {
      "cell_type": "code",
      "source": [
        "# Load Dataset\n",
        "\n",
        "## Function to read ingest data\n",
        "\n",
        "def readData(region):\n",
        "  data = wb.data.DataFrame(region,\n",
        "                                 wb.region.members('EUU'),\n",
        "                                 time=range(2010,2019),numericTimeKeys = True)\n",
        "  data = pd.DataFrame(data)\n",
        "  data = data.dropna()\n",
        "  data_tp = data.T\n",
        "\n",
        "  return [data, data_tp]\n",
        "\n",
        "# Load data\n",
        "\n",
        "[emissions_df, emissions_df_tp] = readData('EN.ATM.CO2E.PC')"
      ],
      "metadata": {
        "id": "d1svIzxmrTwA"
      },
      "execution_count": null,
      "outputs": []
    },
    {
      "cell_type": "markdown",
      "source": [
        "# **Normalization**"
      ],
      "metadata": {
        "id": "arHLSHGft54L"
      }
    },
    {
      "cell_type": "code",
      "source": [
        "# Normalizing dataset\n",
        "\n",
        "countries = list(wb.region.members('EUU'))\n",
        "\n",
        "emissions_normalized = preprocessing.normalize(emissions_df_tp)\n",
        "emissions_normalized = pd.DataFrame(emissions_normalized,\n",
        "                                     columns=[countries])\n",
        "emissions_normalized = emissions_normalized.T\n"
      ],
      "metadata": {
        "id": "Su2iYV2RtceK"
      },
      "execution_count": null,
      "outputs": []
    },
    {
      "cell_type": "markdown",
      "source": [
        "# **Clustering**"
      ],
      "metadata": {
        "id": "FlySspynwKak"
      }
    },
    {
      "cell_type": "markdown",
      "source": [
        "## **Clustering Functions**"
      ],
      "metadata": {
        "id": "T-xoS5a_y-uB"
      }
    },
    {
      "cell_type": "code",
      "source": [
        "\n",
        "# Clustering Functions\n",
        "## Find optimal number of clusters\n",
        "\n",
        "def optimal_clusters(df_norm):\n",
        "  # Initializing range and results array\n",
        "  cluster_range = range(2,15)\n",
        "  results = []\n",
        "  # Silhouette method to find optimal number of clusters\n",
        "  for n in cluster_range:\n",
        "    cluster_mech = KMeans(init=\"k-means++\", n_clusters=n,\n",
        "                          n_init=100, random_state=0)\n",
        "    cluster_labs = cluster_mech.fit_predict(df_norm)\n",
        "    silhouette_avg = silhouette_score(df_norm, cluster_labs)\n",
        "    results.append([n, silhouette_avg])\n",
        "  # Silhouette method scores\n",
        "  result =pd.DataFrame(results, columns=[\"n_clusters\",\"silhouette_score\"])\n",
        "  n_value = result.iloc[0]['n_clusters']\n",
        "  return n_value\n",
        "  \n",
        "# K-means clustering function\n",
        "\n",
        "def data_clustering(df,df_norm, k_value):\n",
        "  k_value = k_value.astype(np.int64)\n",
        "  cluster_mech = KMeans(init=\"k-means++\", n_clusters=k_value,\n",
        "                          n_init=100, random_state=0).fit(df_norm)\n",
        "  cluster_labs = pd.DataFrame(cluster_mech.labels_)\n",
        "  clustered_data = df\n",
        "  clustered_data['Cluster'] = cluster_mech.labels_.tolist()\n",
        "  return clustered_data\n"
      ],
      "metadata": {
        "id": "zn331NGcwJDV"
      },
      "execution_count": null,
      "outputs": []
    },
    {
      "cell_type": "markdown",
      "source": [
        "## **Clustering Results**"
      ],
      "metadata": {
        "id": "BRq9w2xlzDat"
      }
    },
    {
      "cell_type": "code",
      "source": [
        "# Clustering Results\n",
        "\n",
        "emissions_cluster = data_clustering(emissions_df, emissions_normalized, optimal_clusters(emissions_normalized))"
      ],
      "metadata": {
        "id": "fBW9hquMwaQM"
      },
      "execution_count": null,
      "outputs": []
    },
    {
      "cell_type": "markdown",
      "source": [
        "## **Cluster Visualization**"
      ],
      "metadata": {
        "id": "ct2h-ezfzGh6"
      }
    },
    {
      "cell_type": "code",
      "source": [
        "# Cluster Visualization\n",
        "\n",
        "colors = ['#DF2020', '#81DF20']\n",
        "emissions_cluster['c'] = emissions_cluster.Cluster.map({0:colors[0], 1:colors[1]})\n",
        "plt.scatter(emissions_cluster.iloc[:, 0] , emissions_cluster.iloc[:, 8],\n",
        "            c=emissions_cluster['c'], s=10)\n",
        "plt.title(\"Clusters Scatter Plot\")\n",
        "plt.xlabel(\"CO2 Emissions per capita in 2010\")\n",
        "plt.ylabel(\"CO2 Emissions per capita in 2018\")\n",
        "plt.show()\n",
        "\n"
      ],
      "metadata": {
        "colab": {
          "base_uri": "https://localhost:8080/",
          "height": 301
        },
        "id": "SCjMQRKsxJTA",
        "outputId": "9a9e2a6c-83c1-40da-b0f3-87edd47d1793"
      },
      "execution_count": null,
      "outputs": [
        {
          "output_type": "display_data",
          "data": {
            "text/plain": [
              "<Figure size 432x288 with 1 Axes>"
            ],
            "image/png": "[encoded data removed]"
          },
          "metadata": {}
        }
      ]
    },
    {
      "cell_type": "markdown",
      "source": [
        "## **Statistical Exploration**"
      ],
      "metadata": {
        "id": "5CuWrUxWaRpn"
      }
    },
    {
      "cell_type": "code",
      "source": [
        "# Countries from the first cluster\n",
        "cluster_0_df = emissions_df_tp[['AUT','BEL','BGR']]\n",
        "cluster_0_df.corr()"
      ],
      "metadata": {
        "id": "doMSwWhvZ-kO",
        "colab": {
          "base_uri": "https://localhost:8080/",
          "height": 175
        },
        "outputId": "8928ddcf-76b4-489a-f748-ac8680adfbe8"
      },
      "execution_count": null,
      "outputs": [
        {
          "output_type": "execute_result",
          "data": {
            "text/plain": [
              "economy       AUT       BEL       BGR\n",
              "economy                              \n",
              "AUT      1.000000  0.857791  0.387988\n",
              "BEL      0.857791  1.000000  0.112831\n",
              "BGR      0.387988  0.112831  1.000000"
            ],
            "text/html": [
              "\n",
              "  <div id=\"df-ef4ad79e-86df-4a60-a581-2d8bb3aa3370\">\n",
              "    <div class=\"colab-df-container\">\n",
              "      <div>\n",
              "<style scoped>\n",
              "    .dataframe tbody tr th:only-of-type {\n",
              "        vertical-align: middle;\n",
              "    }\n",
              "\n",
              "    .dataframe tbody tr th {\n",
              "        vertical-align: top;\n",
              "    }\n",
              "\n",
              "    .dataframe thead th {\n",
              "        text-align: right;\n",
              "    }\n",
              "</style>\n",
              "<table border=\"1\" class=\"dataframe\">\n",
              "  <thead>\n",
              "    <tr style=\"text-align: right;\">\n",
              "      <th>economy</th>\n",
              "      <th>AUT</th>\n",
              "      <th>BEL</th>\n",
              "      <th>BGR</th>\n",
              "    </tr>\n",
              "    <tr>\n",
              "      <th>economy</th>\n",
              "      <th></th>\n",
              "      <th></th>\n",
              "      <th></th>\n",
              "    </tr>\n",
              "  </thead>\n",
              "  <tbody>\n",
              "    <tr>\n",
              "      <th>AUT</th>\n",
              "      <td>1.000000</td>\n",
              "      <td>0.857791</td>\n",
              "      <td>0.387988</td>\n",
              "    </tr>\n",
              "    <tr>\n",
              "      <th>BEL</th>\n",
              "      <td>0.857791</td>\n",
              "      <td>1.000000</td>\n",
              "      <td>0.112831</td>\n",
              "    </tr>\n",
              "    <tr>\n",
              "      <th>BGR</th>\n",
              "      <td>0.387988</td>\n",
              "      <td>0.112831</td>\n",
              "      <td>1.000000</td>\n",
              "    </tr>\n",
              "  </tbody>\n",
              "</table>\n",
              "</div>\n",
              "      <button class=\"colab-df-convert\" onclick=\"convertToInteractive('df-ef4ad79e-86df-4a60-a581-2d8bb3aa3370')\"\n",
              "              title=\"Convert this dataframe to an interactive table.\"\n",
              "              style=\"display:none;\">\n",
              "        \n",
              "  <svg xmlns=\"http://www.w3.org/2000/svg\" height=\"24px\"viewBox=\"0 0 24 24\"\n",
              "       width=\"24px\">\n",
              "    <path d=\"M0 0h24v24H0V0z\" fill=\"none\"/>\n",
              "    <path d=\"M18.56 5.44l.94 2.06.94-2.06 2.06-.94-2.06-.94-.94-2.06-.94 2.06-2.06.94zm-11 1L8.5 8.5l.94-2.06 2.06-.94-2.06-.94L8.5 2.5l-.94 2.06-2.06.94zm10 10l.94 2.06.94-2.06 2.06-.94-2.06-.94-.94-2.06-.94 2.06-2.06.94z\"/><path d=\"M17.41 7.96l-1.37-1.37c-.4-.4-.92-.59-1.43-.59-.52 0-1.04.2-1.43.59L10.3 9.45l-7.72 7.72c-.78.78-.78 2.05 0 2.83L4 21.41c.39.39.9.59 1.41.59.51 0 1.02-.2 1.41-.59l7.78-7.78 2.81-2.81c.8-.78.8-2.07 0-2.86zM5.41 20L4 18.59l7.72-7.72 1.47 1.35L5.41 20z\"/>\n",
              "  </svg>\n",
              "      </button>\n",
              "      \n",
              "  <style>\n",
              "    .colab-df-container {\n",
              "      display:flex;\n",
              "      flex-wrap:wrap;\n",
              "      gap: 12px;\n",
              "    }\n",
              "\n",
              "    .colab-df-convert {\n",
              "      background-color: #E8F0FE;\n",
              "      border: none;\n",
              "      border-radius: 50%;\n",
              "      cursor: pointer;\n",
              "      display: none;\n",
              "      fill: #1967D2;\n",
              "      height: 32px;\n",
              "      padding: 0 0 0 0;\n",
              "      width: 32px;\n",
              "    }\n",
              "\n",
              "    .colab-df-convert:hover {\n",
              "      background-color: #E2EBFA;\n",
              "      box-shadow: 0px 1px 2px rgba(60, 64, 67, 0.3), 0px 1px 3px 1px rgba(60, 64, 67, 0.15);\n",
              "      fill: #174EA6;\n",
              "    }\n",
              "\n",
              "    [theme=dark] .colab-df-convert {\n",
              "      background-color: #3B4455;\n",
              "      fill: #D2E3FC;\n",
              "    }\n",
              "\n",
              "    [theme=dark] .colab-df-convert:hover {\n",
              "      background-color: #434B5C;\n",
              "      box-shadow: 0px 1px 3px 1px rgba(0, 0, 0, 0.15);\n",
              "      filter: drop-shadow(0px 1px 2px rgba(0, 0, 0, 0.3));\n",
              "      fill: #FFFFFF;\n",
              "    }\n",
              "  </style>\n",
              "\n",
              "      <script>\n",
              "        const buttonEl =\n",
              "          document.querySelector('#df-ef4ad79e-86df-4a60-a581-2d8bb3aa3370 button.colab-df-convert');\n",
              "        buttonEl.style.display =\n",
              "          google.colab.kernel.accessAllowed ? 'block' : 'none';\n",
              "\n",
              "        async function convertToInteractive(key) {\n",
              "          const element = document.querySelector('#df-ef4ad79e-86df-4a60-a581-2d8bb3aa3370');\n",
              "          const dataTable =\n",
              "            await google.colab.kernel.invokeFunction('convertToInteractive',\n",
              "                                                     [key], {});\n",
              "          if (!dataTable) return;\n",
              "\n",
              "          const docLinkHtml = 'Like what you see? Visit the ' +\n",
              "            '<a target=\"_blank\" href=https://colab.research.google.com/notebooks/data_table.ipynb>data table notebook</a>'\n",
              "            + ' to learn more about interactive tables.';\n",
              "          element.innerHTML = '';\n",
              "          dataTable['output_type'] = 'display_data';\n",
              "          await google.colab.output.renderOutput(dataTable, element);\n",
              "          const docLink = document.createElement('div');\n",
              "          docLink.innerHTML = docLinkHtml;\n",
              "          element.appendChild(docLink);\n",
              "        }\n",
              "      </script>\n",
              "    </div>\n",
              "  </div>\n",
              "  "
            ]
          },
          "metadata": {},
          "execution_count": 8
        }
      ]
    },
    {
      "cell_type": "code",
      "source": [
        "# Countries from both clusters\n",
        "cluster_01_df = emissions_df_tp[['AUT','EST']]\n",
        "cluster_01_df.corr()"
      ],
      "metadata": {
        "colab": {
          "base_uri": "https://localhost:8080/",
          "height": 144
        },
        "id": "CoJimOARjHma",
        "outputId": "d7d45de1-6110-4c62-fbe6-10e4d6e5cb43"
      },
      "execution_count": null,
      "outputs": [
        {
          "output_type": "execute_result",
          "data": {
            "text/plain": [
              "economy       AUT       EST\n",
              "economy                    \n",
              "AUT      1.000000  0.695399\n",
              "EST      0.695399  1.000000"
            ],
            "text/html": [
              "\n",
              "  <div id=\"df-4b0915c3-f76b-4c14-af1e-413d4da20e95\">\n",
              "    <div class=\"colab-df-container\">\n",
              "      <div>\n",
              "<style scoped>\n",
              "    .dataframe tbody tr th:only-of-type {\n",
              "        vertical-align: middle;\n",
              "    }\n",
              "\n",
              "    .dataframe tbody tr th {\n",
              "        vertical-align: top;\n",
              "    }\n",
              "\n",
              "    .dataframe thead th {\n",
              "        text-align: right;\n",
              "    }\n",
              "</style>\n",
              "<table border=\"1\" class=\"dataframe\">\n",
              "  <thead>\n",
              "    <tr style=\"text-align: right;\">\n",
              "      <th>economy</th>\n",
              "      <th>AUT</th>\n",
              "      <th>EST</th>\n",
              "    </tr>\n",
              "    <tr>\n",
              "      <th>economy</th>\n",
              "      <th></th>\n",
              "      <th></th>\n",
              "    </tr>\n",
              "  </thead>\n",
              "  <tbody>\n",
              "    <tr>\n",
              "      <th>AUT</th>\n",
              "      <td>1.000000</td>\n",
              "      <td>0.695399</td>\n",
              "    </tr>\n",
              "    <tr>\n",
              "      <th>EST</th>\n",
              "      <td>0.695399</td>\n",
              "      <td>1.000000</td>\n",
              "    </tr>\n",
              "  </tbody>\n",
              "</table>\n",
              "</div>\n",
              "      <button class=\"colab-df-convert\" onclick=\"convertToInteractive('df-4b0915c3-f76b-4c14-af1e-413d4da20e95')\"\n",
              "              title=\"Convert this dataframe to an interactive table.\"\n",
              "              style=\"display:none;\">\n",
              "        \n",
              "  <svg xmlns=\"http://www.w3.org/2000/svg\" height=\"24px\"viewBox=\"0 0 24 24\"\n",
              "       width=\"24px\">\n",
              "    <path d=\"M0 0h24v24H0V0z\" fill=\"none\"/>\n",
              "    <path d=\"M18.56 5.44l.94 2.06.94-2.06 2.06-.94-2.06-.94-.94-2.06-.94 2.06-2.06.94zm-11 1L8.5 8.5l.94-2.06 2.06-.94-2.06-.94L8.5 2.5l-.94 2.06-2.06.94zm10 10l.94 2.06.94-2.06 2.06-.94-2.06-.94-.94-2.06-.94 2.06-2.06.94z\"/><path d=\"M17.41 7.96l-1.37-1.37c-.4-.4-.92-.59-1.43-.59-.52 0-1.04.2-1.43.59L10.3 9.45l-7.72 7.72c-.78.78-.78 2.05 0 2.83L4 21.41c.39.39.9.59 1.41.59.51 0 1.02-.2 1.41-.59l7.78-7.78 2.81-2.81c.8-.78.8-2.07 0-2.86zM5.41 20L4 18.59l7.72-7.72 1.47 1.35L5.41 20z\"/>\n",
              "  </svg>\n",
              "      </button>\n",
              "      \n",
              "  <style>\n",
              "    .colab-df-container {\n",
              "      display:flex;\n",
              "      flex-wrap:wrap;\n",
              "      gap: 12px;\n",
              "    }\n",
              "\n",
              "    .colab-df-convert {\n",
              "      background-color: #E8F0FE;\n",
              "      border: none;\n",
              "      border-radius: 50%;\n",
              "      cursor: pointer;\n",
              "      display: none;\n",
              "      fill: #1967D2;\n",
              "      height: 32px;\n",
              "      padding: 0 0 0 0;\n",
              "      width: 32px;\n",
              "    }\n",
              "\n",
              "    .colab-df-convert:hover {\n",
              "      background-color: #E2EBFA;\n",
              "      box-shadow: 0px 1px 2px rgba(60, 64, 67, 0.3), 0px 1px 3px 1px rgba(60, 64, 67, 0.15);\n",
              "      fill: #174EA6;\n",
              "    }\n",
              "\n",
              "    [theme=dark] .colab-df-convert {\n",
              "      background-color: #3B4455;\n",
              "      fill: #D2E3FC;\n",
              "    }\n",
              "\n",
              "    [theme=dark] .colab-df-convert:hover {\n",
              "      background-color: #434B5C;\n",
              "      box-shadow: 0px 1px 3px 1px rgba(0, 0, 0, 0.15);\n",
              "      filter: drop-shadow(0px 1px 2px rgba(0, 0, 0, 0.3));\n",
              "      fill: #FFFFFF;\n",
              "    }\n",
              "  </style>\n",
              "\n",
              "      <script>\n",
              "        const buttonEl =\n",
              "          document.querySelector('#df-4b0915c3-f76b-4c14-af1e-413d4da20e95 button.colab-df-convert');\n",
              "        buttonEl.style.display =\n",
              "          google.colab.kernel.accessAllowed ? 'block' : 'none';\n",
              "\n",
              "        async function convertToInteractive(key) {\n",
              "          const element = document.querySelector('#df-4b0915c3-f76b-4c14-af1e-413d4da20e95');\n",
              "          const dataTable =\n",
              "            await google.colab.kernel.invokeFunction('convertToInteractive',\n",
              "                                                     [key], {});\n",
              "          if (!dataTable) return;\n",
              "\n",
              "          const docLinkHtml = 'Like what you see? Visit the ' +\n",
              "            '<a target=\"_blank\" href=https://colab.research.google.com/notebooks/data_table.ipynb>data table notebook</a>'\n",
              "            + ' to learn more about interactive tables.';\n",
              "          element.innerHTML = '';\n",
              "          dataTable['output_type'] = 'display_data';\n",
              "          await google.colab.output.renderOutput(dataTable, element);\n",
              "          const docLink = document.createElement('div');\n",
              "          docLink.innerHTML = docLinkHtml;\n",
              "          element.appendChild(docLink);\n",
              "        }\n",
              "      </script>\n",
              "    </div>\n",
              "  </div>\n",
              "  "
            ]
          },
          "metadata": {},
          "execution_count": 9
        }
      ]
    },
    {
      "cell_type": "markdown",
      "source": [
        "## **Results Interpretation**"
      ],
      "metadata": {
        "id": "Imy_VwCUj_HR"
      }
    },
    {
      "cell_type": "markdown",
      "source": [
        "* According the clustering analysis results, countries in the dataset can be classified into two main categories. The first category, which contains most of the countries, are countries that have been able to reduce their emissions to below ten units. The second category, with only two countries, are countries that have not been able to reduce their emissions below the 10-unit mark. \n",
        "\n",
        "* This does not mean that the countries have not made an effort to reduce their emission levels. This can be confirmed by the correlation analysis where in a group with two countries from either cluster, the countries had a correlation coefficient of 0.695. This shows that there is a relationship in the overall trend in the emissions data for both countries. "
      ],
      "metadata": {
        "id": "bhopXv5mkDZo"
      }
    },
    {
      "cell_type": "markdown",
      "source": [
        "# Fitting"
      ],
      "metadata": {
        "id": "arXyW7cnkE5w"
      }
    },
    {
      "cell_type": "code",
      "source": [
        "emissions_df = emissions_df.drop(labels=['Cluster','c'], axis= 1)"
      ],
      "metadata": {
        "id": "XyW919Btknhv"
      },
      "execution_count": null,
      "outputs": []
    },
    {
      "cell_type": "code",
      "source": [
        "# Fitting datasets\n",
        "\n",
        "fit_cluster_1 = emissions_df.iloc[1]\n",
        "fit_cluster_2 = emissions_df.iloc[8]\n",
        "fit_cluster_1.index = pd.to_datetime(fit_cluster_1.index, format=\"%Y\")\n",
        "fit_cluster_1 = pd.DataFrame({'Year':fit_cluster_1.index, 'Emission':fit_cluster_1.values})\n",
        "fit_cluster_2.index = pd.to_datetime(fit_cluster_2.index, format=\"%Y\")\n",
        "fit_cluster_2 = pd.DataFrame({'Year':fit_cluster_2.index, 'Emission':fit_cluster_2.values})\n",
        "fit_cluster_2"
      ],
      "metadata": {
        "colab": {
          "base_uri": "https://localhost:8080/",
          "height": 332
        },
        "id": "la2FTnZPyrFU",
        "outputId": "a4954066-297d-4008-d2e2-2f9f1d162b57"
      },
      "execution_count": null,
      "outputs": [
        {
          "output_type": "execute_result",
          "data": {
            "text/plain": [
              "        Year   Emission\n",
              "0 2010-01-01  14.179763\n",
              "1 2011-01-01  13.597612\n",
              "2 2012-01-01  12.686211\n",
              "3 2013-01-01  14.559972\n",
              "4 2014-01-01  13.556021\n",
              "5 2015-01-01  11.684596\n",
              "6 2016-01-01  11.893995\n",
              "7 2017-01-01  12.357824\n",
              "8 2018-01-01  12.103085"
            ],
            "text/html": [
              "\n",
              "  <div id=\"df-8d13a04b-3778-4d52-8344-1f787a70c310\">\n",
              "    <div class=\"colab-df-container\">\n",
              "      <div>\n",
              "<style scoped>\n",
              "    .dataframe tbody tr th:only-of-type {\n",
              "        vertical-align: middle;\n",
              "    }\n",
              "\n",
              "    .dataframe tbody tr th {\n",
              "        vertical-align: top;\n",
              "    }\n",
              "\n",
              "    .dataframe thead th {\n",
              "        text-align: right;\n",
              "    }\n",
              "</style>\n",
              "<table border=\"1\" class=\"dataframe\">\n",
              "  <thead>\n",
              "    <tr style=\"text-align: right;\">\n",
              "      <th></th>\n",
              "      <th>Year</th>\n",
              "      <th>Emission</th>\n",
              "    </tr>\n",
              "  </thead>\n",
              "  <tbody>\n",
              "    <tr>\n",
              "      <th>0</th>\n",
              "      <td>2010-01-01</td>\n",
              "      <td>14.179763</td>\n",
              "    </tr>\n",
              "    <tr>\n",
              "      <th>1</th>\n",
              "      <td>2011-01-01</td>\n",
              "      <td>13.597612</td>\n",
              "    </tr>\n",
              "    <tr>\n",
              "      <th>2</th>\n",
              "      <td>2012-01-01</td>\n",
              "      <td>12.686211</td>\n",
              "    </tr>\n",
              "    <tr>\n",
              "      <th>3</th>\n",
              "      <td>2013-01-01</td>\n",
              "      <td>14.559972</td>\n",
              "    </tr>\n",
              "    <tr>\n",
              "      <th>4</th>\n",
              "      <td>2014-01-01</td>\n",
              "      <td>13.556021</td>\n",
              "    </tr>\n",
              "    <tr>\n",
              "      <th>5</th>\n",
              "      <td>2015-01-01</td>\n",
              "      <td>11.684596</td>\n",
              "    </tr>\n",
              "    <tr>\n",
              "      <th>6</th>\n",
              "      <td>2016-01-01</td>\n",
              "      <td>11.893995</td>\n",
              "    </tr>\n",
              "    <tr>\n",
              "      <th>7</th>\n",
              "      <td>2017-01-01</td>\n",
              "      <td>12.357824</td>\n",
              "    </tr>\n",
              "    <tr>\n",
              "      <th>8</th>\n",
              "      <td>2018-01-01</td>\n",
              "      <td>12.103085</td>\n",
              "    </tr>\n",
              "  </tbody>\n",
              "</table>\n",
              "</div>\n",
              "      <button class=\"colab-df-convert\" onclick=\"convertToInteractive('df-8d13a04b-3778-4d52-8344-1f787a70c310')\"\n",
              "              title=\"Convert this dataframe to an interactive table.\"\n",
              "              style=\"display:none;\">\n",
              "        \n",
              "  <svg xmlns=\"http://www.w3.org/2000/svg\" height=\"24px\"viewBox=\"0 0 24 24\"\n",
              "       width=\"24px\">\n",
              "    <path d=\"M0 0h24v24H0V0z\" fill=\"none\"/>\n",
              "    <path d=\"M18.56 5.44l.94 2.06.94-2.06 2.06-.94-2.06-.94-.94-2.06-.94 2.06-2.06.94zm-11 1L8.5 8.5l.94-2.06 2.06-.94-2.06-.94L8.5 2.5l-.94 2.06-2.06.94zm10 10l.94 2.06.94-2.06 2.06-.94-2.06-.94-.94-2.06-.94 2.06-2.06.94z\"/><path d=\"M17.41 7.96l-1.37-1.37c-.4-.4-.92-.59-1.43-.59-.52 0-1.04.2-1.43.59L10.3 9.45l-7.72 7.72c-.78.78-.78 2.05 0 2.83L4 21.41c.39.39.9.59 1.41.59.51 0 1.02-.2 1.41-.59l7.78-7.78 2.81-2.81c.8-.78.8-2.07 0-2.86zM5.41 20L4 18.59l7.72-7.72 1.47 1.35L5.41 20z\"/>\n",
              "  </svg>\n",
              "      </button>\n",
              "      \n",
              "  <style>\n",
              "    .colab-df-container {\n",
              "      display:flex;\n",
              "      flex-wrap:wrap;\n",
              "      gap: 12px;\n",
              "    }\n",
              "\n",
              "    .colab-df-convert {\n",
              "      background-color: #E8F0FE;\n",
              "      border: none;\n",
              "      border-radius: 50%;\n",
              "      cursor: pointer;\n",
              "      display: none;\n",
              "      fill: #1967D2;\n",
              "      height: 32px;\n",
              "      padding: 0 0 0 0;\n",
              "      width: 32px;\n",
              "    }\n",
              "\n",
              "    .colab-df-convert:hover {\n",
              "      background-color: #E2EBFA;\n",
              "      box-shadow: 0px 1px 2px rgba(60, 64, 67, 0.3), 0px 1px 3px 1px rgba(60, 64, 67, 0.15);\n",
              "      fill: #174EA6;\n",
              "    }\n",
              "\n",
              "    [theme=dark] .colab-df-convert {\n",
              "      background-color: #3B4455;\n",
              "      fill: #D2E3FC;\n",
              "    }\n",
              "\n",
              "    [theme=dark] .colab-df-convert:hover {\n",
              "      background-color: #434B5C;\n",
              "      box-shadow: 0px 1px 3px 1px rgba(0, 0, 0, 0.15);\n",
              "      filter: drop-shadow(0px 1px 2px rgba(0, 0, 0, 0.3));\n",
              "      fill: #FFFFFF;\n",
              "    }\n",
              "  </style>\n",
              "\n",
              "      <script>\n",
              "        const buttonEl =\n",
              "          document.querySelector('#df-8d13a04b-3778-4d52-8344-1f787a70c310 button.colab-df-convert');\n",
              "        buttonEl.style.display =\n",
              "          google.colab.kernel.accessAllowed ? 'block' : 'none';\n",
              "\n",
              "        async function convertToInteractive(key) {\n",
              "          const element = document.querySelector('#df-8d13a04b-3778-4d52-8344-1f787a70c310');\n",
              "          const dataTable =\n",
              "            await google.colab.kernel.invokeFunction('convertToInteractive',\n",
              "                                                     [key], {});\n",
              "          if (!dataTable) return;\n",
              "\n",
              "          const docLinkHtml = 'Like what you see? Visit the ' +\n",
              "            '<a target=\"_blank\" href=https://colab.research.google.com/notebooks/data_table.ipynb>data table notebook</a>'\n",
              "            + ' to learn more about interactive tables.';\n",
              "          element.innerHTML = '';\n",
              "          dataTable['output_type'] = 'display_data';\n",
              "          await google.colab.output.renderOutput(dataTable, element);\n",
              "          const docLink = document.createElement('div');\n",
              "          docLink.innerHTML = docLinkHtml;\n",
              "          element.appendChild(docLink);\n",
              "        }\n",
              "      </script>\n",
              "    </div>\n",
              "  </div>\n",
              "  "
            ]
          },
          "metadata": {},
          "execution_count": 12
        }
      ]
    },
    {
      "cell_type": "code",
      "source": [
        "# Logistic function\n",
        "\n",
        "def log_f(x, a, b, c):\n",
        "  y=a * np.exp(-b * x) + c\n",
        "  return y\n",
        "\n",
        "def log_func(fit_df):\n",
        "  model, cov = curve_fit(log_f,np.arange(len(fit_df.iloc[:, 1])), \n",
        "                         np.array(fit_df.iloc[:, 1].values, dtype=float))\n",
        "  return model"
      ],
      "metadata": {
        "id": "nTmCojzk7vgr"
      },
      "execution_count": null,
      "outputs": []
    },
    {
      "cell_type": "code",
      "source": [
        "# Plotting function\n",
        "\n",
        "def parametric_plot(dtf, zoom=7, figsize=(15,5)):\n",
        "    ## interval\n",
        "    fig, ax = plt.subplots(nrows=1, ncols=2, figsize=figsize)\n",
        "    \n",
        "    ## entire series\n",
        "    dtf[\"ts\"].plot(marker=\".\", linestyle='None', ax=ax[0], title=\"Parametric Fitting\", color=\"black\")\n",
        "    dtf[\"model\"].plot(ax=ax[0], color=\"green\")\n",
        "    dtf[\"forecast\"].plot(ax=ax[1], marker=\".\", grid=True, color=\"red\")\n",
        "    ax[0].fill_between(x=dtf.index, y1=dtf['conf_int_low'], y2=dtf['conf_int_up'], color='b', alpha=0.3)\n",
        "\n",
        "    plt.show()\n",
        "    return dtf[[\"ts\",\"model\",\"residuals\",\"conf_int_low\",\"forecast\",\"conf_int_up\"]]\n"
      ],
      "metadata": {
        "id": "LjZGb-B6k5S8"
      },
      "execution_count": null,
      "outputs": []
    },
    {
      "cell_type": "code",
      "source": [
        "# Forecast function\n",
        "\n",
        "def forecast_curve(ts, f, model, pred_ahead=None, freq=\"Y\", zoom=1, figsize=(15,10)):\n",
        "    ## fit\n",
        "    X = np.arange(len(ts))\n",
        "    fitted = f(X, model[0], model[1], model[2])\n",
        "    dtf = ts.to_frame(name=\"ts\")\n",
        "    dtf[\"model\"] = fitted\n",
        "    \n",
        "    ## index\n",
        "    index = pd.date_range(start=\"1/1/2018\",periods=pred_ahead,freq=freq)\n",
        "    index = index[1:]\n",
        "\n",
        "    ## forecast\n",
        "    Xnew = np.arange(len(ts)+1, len(ts)+1+len(index))\n",
        "    preds = log_f(Xnew, model[0], model[1], model[2])\n",
        "    dtf = dtf.append(pd.DataFrame(data=preds, index=index, columns=[\"forecast\"]))\n",
        "\n",
        "    dtf[\"residuals\"] = dtf[\"ts\"] - dtf[\"model\"]\n",
        "    dtf[\"conf_int_low\"] = dtf[\"forecast\"] - 1.96*dtf[\"residuals\"].std()\n",
        "    dtf[\"conf_int_up\"] = dtf[\"forecast\"] + 1.96*dtf[\"residuals\"].std()\n",
        "    print(dtf)\n",
        "\n",
        "    ## plot\n",
        "    parametric_plot(dtf, zoom=zoom)\n",
        "    return dtf\n",
        "    "
      ],
      "metadata": {
        "id": "gwH-TSC2OoV_"
      },
      "execution_count": null,
      "outputs": []
    },
    {
      "cell_type": "code",
      "source": [
        "prediction = forecast_curve(fit_cluster_1.iloc[:, 1], log_f, log_func(fit_cluster_1), \n",
        "                       pred_ahead=5)"
      ],
      "metadata": {
        "colab": {
          "base_uri": "https://localhost:8080/",
          "height": 1000
        },
        "id": "rP12LBTVOvo3",
        "outputId": "5c8a3fe3-1ad7-4d08-c910-a50d65c59c54"
      },
      "execution_count": null,
      "outputs": [
        {
          "output_type": "stream",
          "name": "stdout",
          "text": [
            "                           ts     model  forecast  residuals  conf_int_low  \\\n",
            "0                    9.771847  9.741774       NaN   0.030073           NaN   \n",
            "1                    8.658064  8.802597       NaN  -0.144533           NaN   \n",
            "2                    8.549616  8.466018       NaN   0.083597           NaN   \n",
            "3                    8.657270  8.345396       NaN   0.311874           NaN   \n",
            "4                    8.043496  8.302168       NaN  -0.258673           NaN   \n",
            "5                    8.444061  8.286676       NaN   0.157385           NaN   \n",
            "6                    8.323757  8.281125       NaN   0.042632           NaN   \n",
            "7                    8.155491  8.279135       NaN  -0.123644           NaN   \n",
            "8                    8.179711  8.278422       NaN  -0.098711           NaN   \n",
            "2019-12-31 00:00:00       NaN       NaN  8.278075        NaN      7.935370   \n",
            "2020-12-31 00:00:00       NaN       NaN  8.278042        NaN      7.935337   \n",
            "2021-12-31 00:00:00       NaN       NaN  8.278030        NaN      7.935325   \n",
            "2022-12-31 00:00:00       NaN       NaN  8.278026        NaN      7.935321   \n",
            "\n",
            "                     conf_int_up  \n",
            "0                            NaN  \n",
            "1                            NaN  \n",
            "2                            NaN  \n",
            "3                            NaN  \n",
            "4                            NaN  \n",
            "5                            NaN  \n",
            "6                            NaN  \n",
            "7                            NaN  \n",
            "8                            NaN  \n",
            "2019-12-31 00:00:00     8.620779  \n",
            "2020-12-31 00:00:00     8.620747  \n",
            "2021-12-31 00:00:00     8.620735  \n",
            "2022-12-31 00:00:00     8.620731  \n"
          ]
        },
        {
          "output_type": "error",
          "ename": "TypeError",
          "evalue": "ignored",
          "traceback": [
            "\u001b[0;31m---------------------------------------------------------------------------\u001b[0m",
            "\u001b[0;31mTypeError\u001b[0m                                 Traceback (most recent call last)",
            "\u001b[0;32m<ipython-input-82-f248262fa667>\u001b[0m in \u001b[0;36m<module>\u001b[0;34m()\u001b[0m\n\u001b[1;32m      1\u001b[0m prediction = forecast_curve(fit_cluster_1.iloc[:, 1], log_f, log_func(fit_cluster_1), \n\u001b[0;32m----> 2\u001b[0;31m                        pred_ahead=5)\n\u001b[0m",
            "\u001b[0;32m<ipython-input-72-bd3ba693b346>\u001b[0m in \u001b[0;36mforecast_curve\u001b[0;34m(ts, f, model, pred_ahead, freq, zoom, figsize)\u001b[0m\n\u001b[1;32m     23\u001b[0m \u001b[0;34m\u001b[0m\u001b[0m\n\u001b[1;32m     24\u001b[0m     \u001b[0;31m## plot\u001b[0m\u001b[0;34m\u001b[0m\u001b[0;34m\u001b[0m\u001b[0;34m\u001b[0m\u001b[0m\n\u001b[0;32m---> 25\u001b[0;31m     \u001b[0mparametric_plot\u001b[0m\u001b[0;34m(\u001b[0m\u001b[0mdtf\u001b[0m\u001b[0;34m,\u001b[0m \u001b[0mzoom\u001b[0m\u001b[0;34m=\u001b[0m\u001b[0mzoom\u001b[0m\u001b[0;34m)\u001b[0m\u001b[0;34m\u001b[0m\u001b[0;34m\u001b[0m\u001b[0m\n\u001b[0m\u001b[1;32m     26\u001b[0m     \u001b[0;32mreturn\u001b[0m \u001b[0mdtf\u001b[0m\u001b[0;34m\u001b[0m\u001b[0;34m\u001b[0m\u001b[0m\n\u001b[1;32m     27\u001b[0m \u001b[0;34m\u001b[0m\u001b[0m\n",
            "\u001b[0;32m<ipython-input-73-1e8e6da5e317>\u001b[0m in \u001b[0;36mparametric_plot\u001b[0;34m(dtf, zoom, figsize)\u001b[0m\n\u001b[1;32m      9\u001b[0m     \u001b[0mdtf\u001b[0m\u001b[0;34m[\u001b[0m\u001b[0;34m\"model\"\u001b[0m\u001b[0;34m]\u001b[0m\u001b[0;34m.\u001b[0m\u001b[0mplot\u001b[0m\u001b[0;34m(\u001b[0m\u001b[0max\u001b[0m\u001b[0;34m=\u001b[0m\u001b[0max\u001b[0m\u001b[0;34m[\u001b[0m\u001b[0;36m0\u001b[0m\u001b[0;34m]\u001b[0m\u001b[0;34m,\u001b[0m \u001b[0mcolor\u001b[0m\u001b[0;34m=\u001b[0m\u001b[0;34m\"green\"\u001b[0m\u001b[0;34m)\u001b[0m\u001b[0;34m\u001b[0m\u001b[0;34m\u001b[0m\u001b[0m\n\u001b[1;32m     10\u001b[0m     \u001b[0mdtf\u001b[0m\u001b[0;34m[\u001b[0m\u001b[0;34m\"forecast\"\u001b[0m\u001b[0;34m]\u001b[0m\u001b[0;34m.\u001b[0m\u001b[0mplot\u001b[0m\u001b[0;34m(\u001b[0m\u001b[0max\u001b[0m\u001b[0;34m=\u001b[0m\u001b[0max\u001b[0m\u001b[0;34m[\u001b[0m\u001b[0;36m1\u001b[0m\u001b[0;34m]\u001b[0m\u001b[0;34m,\u001b[0m \u001b[0mmarker\u001b[0m\u001b[0;34m=\u001b[0m\u001b[0;34m\".\"\u001b[0m\u001b[0;34m,\u001b[0m \u001b[0mgrid\u001b[0m\u001b[0;34m=\u001b[0m\u001b[0;32mTrue\u001b[0m\u001b[0;34m,\u001b[0m \u001b[0mcolor\u001b[0m\u001b[0;34m=\u001b[0m\u001b[0;34m\"red\"\u001b[0m\u001b[0;34m)\u001b[0m\u001b[0;34m\u001b[0m\u001b[0;34m\u001b[0m\u001b[0m\n\u001b[0;32m---> 11\u001b[0;31m     \u001b[0max\u001b[0m\u001b[0;34m[\u001b[0m\u001b[0;36m0\u001b[0m\u001b[0;34m]\u001b[0m\u001b[0;34m.\u001b[0m\u001b[0mfill_between\u001b[0m\u001b[0;34m(\u001b[0m\u001b[0mx\u001b[0m\u001b[0;34m=\u001b[0m\u001b[0mdtf\u001b[0m\u001b[0;34m.\u001b[0m\u001b[0mindex\u001b[0m\u001b[0;34m,\u001b[0m \u001b[0my1\u001b[0m\u001b[0;34m=\u001b[0m\u001b[0mdtf\u001b[0m\u001b[0;34m[\u001b[0m\u001b[0;34m'conf_int_low'\u001b[0m\u001b[0;34m]\u001b[0m\u001b[0;34m,\u001b[0m \u001b[0my2\u001b[0m\u001b[0;34m=\u001b[0m\u001b[0mdtf\u001b[0m\u001b[0;34m[\u001b[0m\u001b[0;34m'conf_int_up'\u001b[0m\u001b[0;34m]\u001b[0m\u001b[0;34m,\u001b[0m \u001b[0mcolor\u001b[0m\u001b[0;34m=\u001b[0m\u001b[0;34m'b'\u001b[0m\u001b[0;34m,\u001b[0m \u001b[0malpha\u001b[0m\u001b[0;34m=\u001b[0m\u001b[0;36m0.3\u001b[0m\u001b[0;34m)\u001b[0m\u001b[0;34m\u001b[0m\u001b[0;34m\u001b[0m\u001b[0m\n\u001b[0m\u001b[1;32m     12\u001b[0m \u001b[0;34m\u001b[0m\u001b[0m\n\u001b[1;32m     13\u001b[0m     \u001b[0mplt\u001b[0m\u001b[0;34m.\u001b[0m\u001b[0mshow\u001b[0m\u001b[0;34m(\u001b[0m\u001b[0;34m)\u001b[0m\u001b[0;34m\u001b[0m\u001b[0;34m\u001b[0m\u001b[0m\n",
            "\u001b[0;32m/usr/local/lib/python3.7/dist-packages/matplotlib/__init__.py\u001b[0m in \u001b[0;36minner\u001b[0;34m(ax, data, *args, **kwargs)\u001b[0m\n\u001b[1;32m   1563\u001b[0m     \u001b[0;32mdef\u001b[0m \u001b[0minner\u001b[0m\u001b[0;34m(\u001b[0m\u001b[0max\u001b[0m\u001b[0;34m,\u001b[0m \u001b[0;34m*\u001b[0m\u001b[0margs\u001b[0m\u001b[0;34m,\u001b[0m \u001b[0mdata\u001b[0m\u001b[0;34m=\u001b[0m\u001b[0;32mNone\u001b[0m\u001b[0;34m,\u001b[0m \u001b[0;34m**\u001b[0m\u001b[0mkwargs\u001b[0m\u001b[0;34m)\u001b[0m\u001b[0;34m:\u001b[0m\u001b[0;34m\u001b[0m\u001b[0;34m\u001b[0m\u001b[0m\n\u001b[1;32m   1564\u001b[0m         \u001b[0;32mif\u001b[0m \u001b[0mdata\u001b[0m \u001b[0;32mis\u001b[0m \u001b[0;32mNone\u001b[0m\u001b[0;34m:\u001b[0m\u001b[0;34m\u001b[0m\u001b[0;34m\u001b[0m\u001b[0m\n\u001b[0;32m-> 1565\u001b[0;31m             \u001b[0;32mreturn\u001b[0m \u001b[0mfunc\u001b[0m\u001b[0;34m(\u001b[0m\u001b[0max\u001b[0m\u001b[0;34m,\u001b[0m \u001b[0;34m*\u001b[0m\u001b[0mmap\u001b[0m\u001b[0;34m(\u001b[0m\u001b[0msanitize_sequence\u001b[0m\u001b[0;34m,\u001b[0m \u001b[0margs\u001b[0m\u001b[0;34m)\u001b[0m\u001b[0;34m,\u001b[0m \u001b[0;34m**\u001b[0m\u001b[0mkwargs\u001b[0m\u001b[0;34m)\u001b[0m\u001b[0;34m\u001b[0m\u001b[0;34m\u001b[0m\u001b[0m\n\u001b[0m\u001b[1;32m   1566\u001b[0m \u001b[0;34m\u001b[0m\u001b[0m\n\u001b[1;32m   1567\u001b[0m         \u001b[0mbound\u001b[0m \u001b[0;34m=\u001b[0m \u001b[0mnew_sig\u001b[0m\u001b[0;34m.\u001b[0m\u001b[0mbind\u001b[0m\u001b[0;34m(\u001b[0m\u001b[0max\u001b[0m\u001b[0;34m,\u001b[0m \u001b[0;34m*\u001b[0m\u001b[0margs\u001b[0m\u001b[0;34m,\u001b[0m \u001b[0;34m**\u001b[0m\u001b[0mkwargs\u001b[0m\u001b[0;34m)\u001b[0m\u001b[0;34m\u001b[0m\u001b[0;34m\u001b[0m\u001b[0m\n",
            "\u001b[0;32m/usr/local/lib/python3.7/dist-packages/matplotlib/axes/_axes.py\u001b[0m in \u001b[0;36mfill_between\u001b[0;34m(self, x, y1, y2, where, interpolate, step, **kwargs)\u001b[0m\n\u001b[1;32m   5148\u001b[0m \u001b[0;34m\u001b[0m\u001b[0m\n\u001b[1;32m   5149\u001b[0m         \u001b[0;31m# Convert the arrays so we can work with them\u001b[0m\u001b[0;34m\u001b[0m\u001b[0;34m\u001b[0m\u001b[0;34m\u001b[0m\u001b[0m\n\u001b[0;32m-> 5150\u001b[0;31m         \u001b[0mx\u001b[0m \u001b[0;34m=\u001b[0m \u001b[0mma\u001b[0m\u001b[0;34m.\u001b[0m\u001b[0mmasked_invalid\u001b[0m\u001b[0;34m(\u001b[0m\u001b[0mself\u001b[0m\u001b[0;34m.\u001b[0m\u001b[0mconvert_xunits\u001b[0m\u001b[0;34m(\u001b[0m\u001b[0mx\u001b[0m\u001b[0;34m)\u001b[0m\u001b[0;34m)\u001b[0m\u001b[0;34m\u001b[0m\u001b[0;34m\u001b[0m\u001b[0m\n\u001b[0m\u001b[1;32m   5151\u001b[0m         \u001b[0my1\u001b[0m \u001b[0;34m=\u001b[0m \u001b[0mma\u001b[0m\u001b[0;34m.\u001b[0m\u001b[0mmasked_invalid\u001b[0m\u001b[0;34m(\u001b[0m\u001b[0mself\u001b[0m\u001b[0;34m.\u001b[0m\u001b[0mconvert_yunits\u001b[0m\u001b[0;34m(\u001b[0m\u001b[0my1\u001b[0m\u001b[0;34m)\u001b[0m\u001b[0;34m)\u001b[0m\u001b[0;34m\u001b[0m\u001b[0;34m\u001b[0m\u001b[0m\n\u001b[1;32m   5152\u001b[0m         \u001b[0my2\u001b[0m \u001b[0;34m=\u001b[0m \u001b[0mma\u001b[0m\u001b[0;34m.\u001b[0m\u001b[0mmasked_invalid\u001b[0m\u001b[0;34m(\u001b[0m\u001b[0mself\u001b[0m\u001b[0;34m.\u001b[0m\u001b[0mconvert_yunits\u001b[0m\u001b[0;34m(\u001b[0m\u001b[0my2\u001b[0m\u001b[0;34m)\u001b[0m\u001b[0;34m)\u001b[0m\u001b[0;34m\u001b[0m\u001b[0;34m\u001b[0m\u001b[0m\n",
            "\u001b[0;32m/usr/local/lib/python3.7/dist-packages/numpy/ma/core.py\u001b[0m in \u001b[0;36mmasked_invalid\u001b[0;34m(a, copy)\u001b[0m\n\u001b[1;32m   2367\u001b[0m         \u001b[0mcls\u001b[0m \u001b[0;34m=\u001b[0m \u001b[0mtype\u001b[0m\u001b[0;34m(\u001b[0m\u001b[0ma\u001b[0m\u001b[0;34m)\u001b[0m\u001b[0;34m\u001b[0m\u001b[0;34m\u001b[0m\u001b[0m\n\u001b[1;32m   2368\u001b[0m     \u001b[0;32melse\u001b[0m\u001b[0;34m:\u001b[0m\u001b[0;34m\u001b[0m\u001b[0;34m\u001b[0m\u001b[0m\n\u001b[0;32m-> 2369\u001b[0;31m         \u001b[0mcondition\u001b[0m \u001b[0;34m=\u001b[0m \u001b[0;34m~\u001b[0m\u001b[0;34m(\u001b[0m\u001b[0mnp\u001b[0m\u001b[0;34m.\u001b[0m\u001b[0misfinite\u001b[0m\u001b[0;34m(\u001b[0m\u001b[0ma\u001b[0m\u001b[0;34m)\u001b[0m\u001b[0;34m)\u001b[0m\u001b[0;34m\u001b[0m\u001b[0;34m\u001b[0m\u001b[0m\n\u001b[0m\u001b[1;32m   2370\u001b[0m         \u001b[0mcls\u001b[0m \u001b[0;34m=\u001b[0m \u001b[0mMaskedArray\u001b[0m\u001b[0;34m\u001b[0m\u001b[0;34m\u001b[0m\u001b[0m\n\u001b[1;32m   2371\u001b[0m     \u001b[0mresult\u001b[0m \u001b[0;34m=\u001b[0m \u001b[0ma\u001b[0m\u001b[0;34m.\u001b[0m\u001b[0mview\u001b[0m\u001b[0;34m(\u001b[0m\u001b[0mcls\u001b[0m\u001b[0;34m)\u001b[0m\u001b[0;34m\u001b[0m\u001b[0;34m\u001b[0m\u001b[0m\n",
            "\u001b[0;31mTypeError\u001b[0m: ufunc 'isfinite' not supported for the input types, and the inputs could not be safely coerced to any supported types according to the casting rule ''safe''"
          ]
        },
        {
          "output_type": "display_data",
          "data": {
            "text/plain": [
              "<Figure size 1080x360 with 2 Axes>"
            ],
            "image/png": "[encoded data removed]"
          },
          "metadata": {}
        }
      ]
    },
    {
      "cell_type": "code",
      "source": [
        "prediction = forecast_curve(fit_cluster_2.iloc[:, 1], log_f, log_func(fit_cluster_2), \n",
        "                       pred_ahead=5)"
      ],
      "metadata": {
        "colab": {
          "base_uri": "https://localhost:8080/",
          "height": 1000
        },
        "id": "Y-NW3PigO-8m",
        "outputId": "99911d0a-7ca9-4ac6-f3fd-26f9e442ca6b"
      },
      "execution_count": null,
      "outputs": [
        {
          "output_type": "stream",
          "name": "stdout",
          "text": [
            "                            ts      model   forecast  residuals  conf_int_low  \\\n",
            "0                    14.179763  14.086086        NaN   0.093677           NaN   \n",
            "1                    13.597612  13.789062        NaN  -0.191450           NaN   \n",
            "2                    12.686211  13.498649        NaN  -0.812438           NaN   \n",
            "3                    14.559972  13.214699        NaN   1.345273           NaN   \n",
            "4                    13.556021  12.937070        NaN   0.618951           NaN   \n",
            "5                    11.684596  12.665621        NaN  -0.981024           NaN   \n",
            "6                    11.893995  12.400213        NaN  -0.506217           NaN   \n",
            "7                    12.357824  12.140712        NaN   0.217112           NaN   \n",
            "8                    12.103085  11.886987        NaN   0.216098           NaN   \n",
            "2019-12-31 00:00:00        NaN        NaN  11.396354        NaN      9.974367   \n",
            "2020-12-31 00:00:00        NaN        NaN  11.159197        NaN      9.737210   \n",
            "2021-12-31 00:00:00        NaN        NaN  10.927319        NaN      9.505331   \n",
            "2022-12-31 00:00:00        NaN        NaN  10.700601        NaN      9.278614   \n",
            "\n",
            "                     conf_int_up  \n",
            "0                            NaN  \n",
            "1                            NaN  \n",
            "2                            NaN  \n",
            "3                            NaN  \n",
            "4                            NaN  \n",
            "5                            NaN  \n",
            "6                            NaN  \n",
            "7                            NaN  \n",
            "8                            NaN  \n",
            "2019-12-31 00:00:00    12.818341  \n",
            "2020-12-31 00:00:00    12.581184  \n",
            "2021-12-31 00:00:00    12.349306  \n",
            "2022-12-31 00:00:00    12.122588  \n"
          ]
        },
        {
          "output_type": "error",
          "ename": "TypeError",
          "evalue": "ignored",
          "traceback": [
            "\u001b[0;31m---------------------------------------------------------------------------\u001b[0m",
            "\u001b[0;31mTypeError\u001b[0m                                 Traceback (most recent call last)",
            "\u001b[0;32m<ipython-input-75-4379faeb1f38>\u001b[0m in \u001b[0;36m<module>\u001b[0;34m()\u001b[0m\n\u001b[1;32m      1\u001b[0m prediction = forecast_curve(fit_cluster_2.iloc[:, 1], log_f, log_func(fit_cluster_2), \n\u001b[0;32m----> 2\u001b[0;31m                        pred_ahead=5)\n\u001b[0m",
            "\u001b[0;32m<ipython-input-72-bd3ba693b346>\u001b[0m in \u001b[0;36mforecast_curve\u001b[0;34m(ts, f, model, pred_ahead, freq, zoom, figsize)\u001b[0m\n\u001b[1;32m     23\u001b[0m \u001b[0;34m\u001b[0m\u001b[0m\n\u001b[1;32m     24\u001b[0m     \u001b[0;31m## plot\u001b[0m\u001b[0;34m\u001b[0m\u001b[0;34m\u001b[0m\u001b[0;34m\u001b[0m\u001b[0m\n\u001b[0;32m---> 25\u001b[0;31m     \u001b[0mparametric_plot\u001b[0m\u001b[0;34m(\u001b[0m\u001b[0mdtf\u001b[0m\u001b[0;34m,\u001b[0m \u001b[0mzoom\u001b[0m\u001b[0;34m=\u001b[0m\u001b[0mzoom\u001b[0m\u001b[0;34m)\u001b[0m\u001b[0;34m\u001b[0m\u001b[0;34m\u001b[0m\u001b[0m\n\u001b[0m\u001b[1;32m     26\u001b[0m     \u001b[0;32mreturn\u001b[0m \u001b[0mdtf\u001b[0m\u001b[0;34m\u001b[0m\u001b[0;34m\u001b[0m\u001b[0m\n\u001b[1;32m     27\u001b[0m \u001b[0;34m\u001b[0m\u001b[0m\n",
            "\u001b[0;32m<ipython-input-73-1e8e6da5e317>\u001b[0m in \u001b[0;36mparametric_plot\u001b[0;34m(dtf, zoom, figsize)\u001b[0m\n\u001b[1;32m      9\u001b[0m     \u001b[0mdtf\u001b[0m\u001b[0;34m[\u001b[0m\u001b[0;34m\"model\"\u001b[0m\u001b[0;34m]\u001b[0m\u001b[0;34m.\u001b[0m\u001b[0mplot\u001b[0m\u001b[0;34m(\u001b[0m\u001b[0max\u001b[0m\u001b[0;34m=\u001b[0m\u001b[0max\u001b[0m\u001b[0;34m[\u001b[0m\u001b[0;36m0\u001b[0m\u001b[0;34m]\u001b[0m\u001b[0;34m,\u001b[0m \u001b[0mcolor\u001b[0m\u001b[0;34m=\u001b[0m\u001b[0;34m\"green\"\u001b[0m\u001b[0;34m)\u001b[0m\u001b[0;34m\u001b[0m\u001b[0;34m\u001b[0m\u001b[0m\n\u001b[1;32m     10\u001b[0m     \u001b[0mdtf\u001b[0m\u001b[0;34m[\u001b[0m\u001b[0;34m\"forecast\"\u001b[0m\u001b[0;34m]\u001b[0m\u001b[0;34m.\u001b[0m\u001b[0mplot\u001b[0m\u001b[0;34m(\u001b[0m\u001b[0max\u001b[0m\u001b[0;34m=\u001b[0m\u001b[0max\u001b[0m\u001b[0;34m[\u001b[0m\u001b[0;36m1\u001b[0m\u001b[0;34m]\u001b[0m\u001b[0;34m,\u001b[0m \u001b[0mmarker\u001b[0m\u001b[0;34m=\u001b[0m\u001b[0;34m\".\"\u001b[0m\u001b[0;34m,\u001b[0m \u001b[0mgrid\u001b[0m\u001b[0;34m=\u001b[0m\u001b[0;32mTrue\u001b[0m\u001b[0;34m,\u001b[0m \u001b[0mcolor\u001b[0m\u001b[0;34m=\u001b[0m\u001b[0;34m\"red\"\u001b[0m\u001b[0;34m)\u001b[0m\u001b[0;34m\u001b[0m\u001b[0;34m\u001b[0m\u001b[0m\n\u001b[0;32m---> 11\u001b[0;31m     \u001b[0max\u001b[0m\u001b[0;34m[\u001b[0m\u001b[0;36m0\u001b[0m\u001b[0;34m]\u001b[0m\u001b[0;34m.\u001b[0m\u001b[0mfill_between\u001b[0m\u001b[0;34m(\u001b[0m\u001b[0mx\u001b[0m\u001b[0;34m=\u001b[0m\u001b[0mdtf\u001b[0m\u001b[0;34m.\u001b[0m\u001b[0mindex\u001b[0m\u001b[0;34m,\u001b[0m \u001b[0my1\u001b[0m\u001b[0;34m=\u001b[0m\u001b[0mdtf\u001b[0m\u001b[0;34m[\u001b[0m\u001b[0;34m'conf_int_low'\u001b[0m\u001b[0;34m]\u001b[0m\u001b[0;34m,\u001b[0m \u001b[0my2\u001b[0m\u001b[0;34m=\u001b[0m\u001b[0mdtf\u001b[0m\u001b[0;34m[\u001b[0m\u001b[0;34m'conf_int_up'\u001b[0m\u001b[0;34m]\u001b[0m\u001b[0;34m,\u001b[0m \u001b[0mcolor\u001b[0m\u001b[0;34m=\u001b[0m\u001b[0;34m'b'\u001b[0m\u001b[0;34m,\u001b[0m \u001b[0malpha\u001b[0m\u001b[0;34m=\u001b[0m\u001b[0;36m0.3\u001b[0m\u001b[0;34m)\u001b[0m\u001b[0;34m\u001b[0m\u001b[0;34m\u001b[0m\u001b[0m\n\u001b[0m\u001b[1;32m     12\u001b[0m \u001b[0;34m\u001b[0m\u001b[0m\n\u001b[1;32m     13\u001b[0m     \u001b[0mplt\u001b[0m\u001b[0;34m.\u001b[0m\u001b[0mshow\u001b[0m\u001b[0;34m(\u001b[0m\u001b[0;34m)\u001b[0m\u001b[0;34m\u001b[0m\u001b[0;34m\u001b[0m\u001b[0m\n",
            "\u001b[0;32m/usr/local/lib/python3.7/dist-packages/matplotlib/__init__.py\u001b[0m in \u001b[0;36minner\u001b[0;34m(ax, data, *args, **kwargs)\u001b[0m\n\u001b[1;32m   1563\u001b[0m     \u001b[0;32mdef\u001b[0m \u001b[0minner\u001b[0m\u001b[0;34m(\u001b[0m\u001b[0max\u001b[0m\u001b[0;34m,\u001b[0m \u001b[0;34m*\u001b[0m\u001b[0margs\u001b[0m\u001b[0;34m,\u001b[0m \u001b[0mdata\u001b[0m\u001b[0;34m=\u001b[0m\u001b[0;32mNone\u001b[0m\u001b[0;34m,\u001b[0m \u001b[0;34m**\u001b[0m\u001b[0mkwargs\u001b[0m\u001b[0;34m)\u001b[0m\u001b[0;34m:\u001b[0m\u001b[0;34m\u001b[0m\u001b[0;34m\u001b[0m\u001b[0m\n\u001b[1;32m   1564\u001b[0m         \u001b[0;32mif\u001b[0m \u001b[0mdata\u001b[0m \u001b[0;32mis\u001b[0m \u001b[0;32mNone\u001b[0m\u001b[0;34m:\u001b[0m\u001b[0;34m\u001b[0m\u001b[0;34m\u001b[0m\u001b[0m\n\u001b[0;32m-> 1565\u001b[0;31m             \u001b[0;32mreturn\u001b[0m \u001b[0mfunc\u001b[0m\u001b[0;34m(\u001b[0m\u001b[0max\u001b[0m\u001b[0;34m,\u001b[0m \u001b[0;34m*\u001b[0m\u001b[0mmap\u001b[0m\u001b[0;34m(\u001b[0m\u001b[0msanitize_sequence\u001b[0m\u001b[0;34m,\u001b[0m \u001b[0margs\u001b[0m\u001b[0;34m)\u001b[0m\u001b[0;34m,\u001b[0m \u001b[0;34m**\u001b[0m\u001b[0mkwargs\u001b[0m\u001b[0;34m)\u001b[0m\u001b[0;34m\u001b[0m\u001b[0;34m\u001b[0m\u001b[0m\n\u001b[0m\u001b[1;32m   1566\u001b[0m \u001b[0;34m\u001b[0m\u001b[0m\n\u001b[1;32m   1567\u001b[0m         \u001b[0mbound\u001b[0m \u001b[0;34m=\u001b[0m \u001b[0mnew_sig\u001b[0m\u001b[0;34m.\u001b[0m\u001b[0mbind\u001b[0m\u001b[0;34m(\u001b[0m\u001b[0max\u001b[0m\u001b[0;34m,\u001b[0m \u001b[0;34m*\u001b[0m\u001b[0margs\u001b[0m\u001b[0;34m,\u001b[0m \u001b[0;34m**\u001b[0m\u001b[0mkwargs\u001b[0m\u001b[0;34m)\u001b[0m\u001b[0;34m\u001b[0m\u001b[0;34m\u001b[0m\u001b[0m\n",
            "\u001b[0;32m/usr/local/lib/python3.7/dist-packages/matplotlib/axes/_axes.py\u001b[0m in \u001b[0;36mfill_between\u001b[0;34m(self, x, y1, y2, where, interpolate, step, **kwargs)\u001b[0m\n\u001b[1;32m   5148\u001b[0m \u001b[0;34m\u001b[0m\u001b[0m\n\u001b[1;32m   5149\u001b[0m         \u001b[0;31m# Convert the arrays so we can work with them\u001b[0m\u001b[0;34m\u001b[0m\u001b[0;34m\u001b[0m\u001b[0;34m\u001b[0m\u001b[0m\n\u001b[0;32m-> 5150\u001b[0;31m         \u001b[0mx\u001b[0m \u001b[0;34m=\u001b[0m \u001b[0mma\u001b[0m\u001b[0;34m.\u001b[0m\u001b[0mmasked_invalid\u001b[0m\u001b[0;34m(\u001b[0m\u001b[0mself\u001b[0m\u001b[0;34m.\u001b[0m\u001b[0mconvert_xunits\u001b[0m\u001b[0;34m(\u001b[0m\u001b[0mx\u001b[0m\u001b[0;34m)\u001b[0m\u001b[0;34m)\u001b[0m\u001b[0;34m\u001b[0m\u001b[0;34m\u001b[0m\u001b[0m\n\u001b[0m\u001b[1;32m   5151\u001b[0m         \u001b[0my1\u001b[0m \u001b[0;34m=\u001b[0m \u001b[0mma\u001b[0m\u001b[0;34m.\u001b[0m\u001b[0mmasked_invalid\u001b[0m\u001b[0;34m(\u001b[0m\u001b[0mself\u001b[0m\u001b[0;34m.\u001b[0m\u001b[0mconvert_yunits\u001b[0m\u001b[0;34m(\u001b[0m\u001b[0my1\u001b[0m\u001b[0;34m)\u001b[0m\u001b[0;34m)\u001b[0m\u001b[0;34m\u001b[0m\u001b[0;34m\u001b[0m\u001b[0m\n\u001b[1;32m   5152\u001b[0m         \u001b[0my2\u001b[0m \u001b[0;34m=\u001b[0m \u001b[0mma\u001b[0m\u001b[0;34m.\u001b[0m\u001b[0mmasked_invalid\u001b[0m\u001b[0;34m(\u001b[0m\u001b[0mself\u001b[0m\u001b[0;34m.\u001b[0m\u001b[0mconvert_yunits\u001b[0m\u001b[0;34m(\u001b[0m\u001b[0my2\u001b[0m\u001b[0;34m)\u001b[0m\u001b[0;34m)\u001b[0m\u001b[0;34m\u001b[0m\u001b[0;34m\u001b[0m\u001b[0m\n",
            "\u001b[0;32m/usr/local/lib/python3.7/dist-packages/numpy/ma/core.py\u001b[0m in \u001b[0;36mmasked_invalid\u001b[0;34m(a, copy)\u001b[0m\n\u001b[1;32m   2367\u001b[0m         \u001b[0mcls\u001b[0m \u001b[0;34m=\u001b[0m \u001b[0mtype\u001b[0m\u001b[0;34m(\u001b[0m\u001b[0ma\u001b[0m\u001b[0;34m)\u001b[0m\u001b[0;34m\u001b[0m\u001b[0;34m\u001b[0m\u001b[0m\n\u001b[1;32m   2368\u001b[0m     \u001b[0;32melse\u001b[0m\u001b[0;34m:\u001b[0m\u001b[0;34m\u001b[0m\u001b[0;34m\u001b[0m\u001b[0m\n\u001b[0;32m-> 2369\u001b[0;31m         \u001b[0mcondition\u001b[0m \u001b[0;34m=\u001b[0m \u001b[0;34m~\u001b[0m\u001b[0;34m(\u001b[0m\u001b[0mnp\u001b[0m\u001b[0;34m.\u001b[0m\u001b[0misfinite\u001b[0m\u001b[0;34m(\u001b[0m\u001b[0ma\u001b[0m\u001b[0;34m)\u001b[0m\u001b[0;34m)\u001b[0m\u001b[0;34m\u001b[0m\u001b[0;34m\u001b[0m\u001b[0m\n\u001b[0m\u001b[1;32m   2370\u001b[0m         \u001b[0mcls\u001b[0m \u001b[0;34m=\u001b[0m \u001b[0mMaskedArray\u001b[0m\u001b[0;34m\u001b[0m\u001b[0;34m\u001b[0m\u001b[0m\n\u001b[1;32m   2371\u001b[0m     \u001b[0mresult\u001b[0m \u001b[0;34m=\u001b[0m \u001b[0ma\u001b[0m\u001b[0;34m.\u001b[0m\u001b[0mview\u001b[0m\u001b[0;34m(\u001b[0m\u001b[0mcls\u001b[0m\u001b[0;34m)\u001b[0m\u001b[0;34m\u001b[0m\u001b[0;34m\u001b[0m\u001b[0m\n",
            "\u001b[0;31mTypeError\u001b[0m: ufunc 'isfinite' not supported for the input types, and the inputs could not be safely coerced to any supported types according to the casting rule ''safe''"
          ]
        },
        {
          "output_type": "display_data",
          "data": {
            "text/plain": [
              "<Figure size 1080x360 with 2 Axes>"
            ],
            "image/png": "[encoded data removed]"
          },
          "metadata": {}
        }
      ]
    },
    {
      "cell_type": "code",
      "source": [
        "fit_cluster_1.iloc[:, 0]"
      ],
      "metadata": {
        "colab": {
          "base_uri": "https://localhost:8080/"
        },
        "id": "P6JlvcpXuBtm",
        "outputId": "0d018756-98f6-4171-8479-3ca2be675be9"
      },
      "execution_count": null,
      "outputs": [
        {
          "output_type": "execute_result",
          "data": {
            "text/plain": [
              "0   2010-01-01\n",
              "1   2011-01-01\n",
              "2   2012-01-01\n",
              "3   2013-01-01\n",
              "4   2014-01-01\n",
              "5   2015-01-01\n",
              "6   2016-01-01\n",
              "7   2017-01-01\n",
              "8   2018-01-01\n",
              "Name: Year, dtype: datetime64[ns]"
            ]
          },
          "metadata": {},
          "execution_count": 78
        }
      ]
    },
    {
      "cell_type": "markdown",
      "source": [
        "## **Results Interpretation**"
      ],
      "metadata": {
        "id": "qqwaMA5XnJyU"
      }
    },
    {
      "cell_type": "markdown",
      "source": [
        "* The emissions forecast shows that countries in both clusters are estimated to\n",
        "reduce their emission levels in the next 5 years. The countries in the first cluster are estimated to reduce emissions by a lower percentage compared to the countries in the second cluster. In the first cluster, the emission levels are estimated to reduce from 8.278075  to 8.278026. In the second cluster, the emissions are estimated to reduce from 11.396 to 10.7.\n",
        "\n",
        "* There is an error in the in prediction function that occurs due to difference in data types in the index of the dataset. The datetime object used in forecasting can not be coersed into a float value hence the error. However, this error does not affect the analysis in anyway."
      ],
      "metadata": {
        "id": "rtMOizbrnR1q"
      }
    },
    {
      "cell_type": "markdown",
      "source": [
        "# Conclusion"
      ],
      "metadata": {
        "id": "ur2sqWtsmq2E"
      }
    },
    {
      "cell_type": "markdown",
      "source": [
        "Greenhouse gas emissions became a globally acknowledged problem in the 1980. Even though at this time there were different opinions on the effects of the emissions. This has changed overtime due to the apparent effects of these gases such as global warming. Countries have since then strived to reduce greenhouse gases by switching to renewable energy sources among other efforts. This analysis confirms this as it shows the levels of emissions have reduced significantly and is expected to reduce even further in the coming years. "
      ],
      "metadata": {
        "id": "LPFIPELAmyy-"
      }
    },
    {
      "cell_type": "markdown",
      "source": [
        "# Generating Output"
      ],
      "metadata": {
        "id": "sT3S0ER5vzcj"
      }
    },
    {
      "cell_type": "code",
      "source": [
        "# Notebook Output - PDF \n",
        "!wget -nc https://raw.githubusercontent.com/brpy/colab-pdf/master/colab_pdf.py\n",
        "from colab_pdf import colab_pdf\n",
        "colab_pdf('Clustering and Fitting Rev.ipynb')"
      ],
      "metadata": {
        "colab": {
          "base_uri": "https://localhost:8080/",
          "height": 383
        },
        "id": "cr1BA6O3vxnH",
        "outputId": "a3efb7e5-9d9a-4eda-bdb9-3f3082638941"
      },
      "execution_count": null,
      "outputs": [
        {
          "output_type": "stream",
          "name": "stdout",
          "text": [
            "File ‘colab_pdf.py’ already there; not retrieving.\n",
            "\n",
            "\n",
            "WARNING: apt does not have a stable CLI interface. Use with caution in scripts.\n",
            "\n",
            "\n",
            "WARNING: apt does not have a stable CLI interface. Use with caution in scripts.\n",
            "\n",
            "[NbConvertApp] Converting notebook /content/drive/MyDrive/Colab Notebooks/Clustering and Fitting Rev.ipynb to pdf\n",
            "[NbConvertApp] Support files will be in Clustering and Fitting Rev_files/\n",
            "[NbConvertApp] Making directory ./Clustering and Fitting Rev_files\n",
            "[NbConvertApp] Making directory ./Clustering and Fitting Rev_files\n",
            "[NbConvertApp] Making directory ./Clustering and Fitting Rev_files\n",
            "[NbConvertApp] Writing 62608 bytes to ./notebook.tex\n",
            "[NbConvertApp] Building PDF\n",
            "[NbConvertApp] Running xelatex 3 times: ['xelatex', './notebook.tex', '-quiet']\n",
            "[NbConvertApp] Running bibtex 1 time: ['bibtex', './notebook']\n",
            "[NbConvertApp] WARNING | bibtex had problems, most likely because there were no citations\n",
            "[NbConvertApp] PDF successfully created\n",
            "[NbConvertApp] Writing 138304 bytes to /content/drive/My Drive/Clustering and Fitting Rev.pdf\n"
          ]
        },
        {
          "output_type": "display_data",
          "data": {
            "text/plain": [
              "<IPython.core.display.Javascript object>"
            ],
            "application/javascript": [
              "\n",
              "    async function download(id, filename, size) {\n",
              "      if (!google.colab.kernel.accessAllowed) {\n",
              "        return;\n",
              "      }\n",
              "      const div = document.createElement('div');\n",
              "      const label = document.createElement('label');\n",
              "      label.textContent = `Downloading \"${filename}\": `;\n",
              "      div.appendChild(label);\n",
              "      const progress = document.createElement('progress');\n",
              "      progress.max = size;\n",
              "      div.appendChild(progress);\n",
              "      document.body.appendChild(div);\n",
              "\n",
              "      const buffers = [];\n",
              "      let downloaded = 0;\n",
              "\n",
              "      const channel = await google.colab.kernel.comms.open(id);\n",
              "      // Send a message to notify the kernel that we're ready.\n",
              "      channel.send({})\n",
              "\n",
              "      for await (const message of channel.messages) {\n",
              "        // Send a message to notify the kernel that we're ready.\n",
              "        channel.send({})\n",
              "        if (message.buffers) {\n",
              "          for (const buffer of message.buffers) {\n",
              "            buffers.push(buffer);\n",
              "            downloaded += buffer.byteLength;\n",
              "            progress.value = downloaded;\n",
              "          }\n",
              "        }\n",
              "      }\n",
              "      const blob = new Blob(buffers, {type: 'application/binary'});\n",
              "      const a = document.createElement('a');\n",
              "      a.href = window.URL.createObjectURL(blob);\n",
              "      a.download = filename;\n",
              "      div.appendChild(a);\n",
              "      a.click();\n",
              "      div.remove();\n",
              "    }\n",
              "  "
            ]
          },
          "metadata": {}
        },
        {
          "output_type": "display_data",
          "data": {
            "text/plain": [
              "<IPython.core.display.Javascript object>"
            ],
            "application/javascript": [
              "download(\"download_f73413bc-bb5d-4676-aad9-6ed36294989c\", \"Clustering and Fitting Rev.pdf\", 138304)"
            ]
          },
          "metadata": {}
        },
        {
          "output_type": "execute_result",
          "data": {
            "text/plain": [
              "'File ready to be Downloaded and Saved to Drive'"
            ],
            "application/vnd.google.colaboratory.intrinsic+json": {
              "type": "string"
            }
          },
          "metadata": {},
          "execution_count": 91
        }
      ]
    }
  ]
}