{
  "nbformat": 4,
  "nbformat_minor": 0,
  "metadata": {
    "colab": {
      "provenance": [],
      "authorship_tag": "ABX9TyMWCnyUJDBv6KSvqiwGVQiD",
      "include_colab_link": true
    },
    "kernelspec": {
      "name": "python3",
      "display_name": "Python 3"
    },
    "language_info": {
      "name": "python"
    }
  },
  "cells": [
    {
      "cell_type": "markdown",
      "metadata": {
        "id": "view-in-github",
        "colab_type": "text"
      },
      "source": [
        "<a href=\"https://colab.research.google.com/github/clive-limo/DataScienceProjects/blob/main/Text_Completion_Prediction_Model.ipynb\" target=\"_parent\"><img src=\"https://colab.research.google.com/assets/colab-badge.svg\" alt=\"Open In Colab\"/></a>"
      ]
    },
    {
      "cell_type": "markdown",
      "source": [
        "# Next Word Prediction Model"
      ],
      "metadata": {
        "id": "RrQE9VnyMWid"
      }
    },
    {
      "cell_type": "code",
      "execution_count": null,
      "metadata": {
        "id": "nGg2AAUdMRTY"
      },
      "outputs": [],
      "source": [
        "import numpy as np\n",
        "from nltk.tokenize import RegexpTokenizer\n",
        "from keras.models import Sequential, load_model\n",
        "from keras.layers import LSTM\n",
        "from keras.layers.core import Dense, Activation\n",
        "from keras.optimizers import RMSprop\n",
        "import matplotlib.pyplot as plt\n",
        "import pickle\n",
        "import heapq"
      ]
    },
    {
      "cell_type": "markdown",
      "source": [
        "## Import Data"
      ],
      "metadata": {
        "id": "1KPy6r2rNpS6"
      }
    },
    {
      "cell_type": "code",
      "source": [
        "text_data = open('1661-0.txt').read().lower()\n",
        "len(text_data)"
      ],
      "metadata": {
        "colab": {
          "base_uri": "https://localhost:8080/"
        },
        "id": "00seo7GMNrh0",
        "outputId": "bd0b31e5-d244-41bf-a079-86f140f4dd67"
      },
      "execution_count": null,
      "outputs": [
        {
          "output_type": "execute_result",
          "data": {
            "text/plain": [
              "581888"
            ]
          },
          "metadata": {},
          "execution_count": 1
        }
      ]
    },
    {
      "cell_type": "code",
      "source": [
        "text_data = open('tv_text.txt').read().lower()\n",
        "len(text_data)"
      ],
      "metadata": {
        "colab": {
          "base_uri": "https://localhost:8080/"
        },
        "id": "yW-AB4cavWfi",
        "outputId": "26affe4e-1c08-46bd-f70e-c8eae4e25415"
      },
      "execution_count": null,
      "outputs": [
        {
          "output_type": "execute_result",
          "data": {
            "text/plain": [
              "11758510"
            ]
          },
          "metadata": {},
          "execution_count": 5
        }
      ]
    },
    {
      "cell_type": "markdown",
      "source": [
        "# Data Preprocessing"
      ],
      "metadata": {
        "id": "plAN1-fKP2-E"
      }
    },
    {
      "cell_type": "code",
      "source": [
        "tokenizer = RegexpTokenizer(r'\\w+')\n",
        "words = tokenizer.tokenize(text_data)"
      ],
      "metadata": {
        "id": "7JzE0W02PyIS"
      },
      "execution_count": null,
      "outputs": []
    },
    {
      "cell_type": "code",
      "source": [
        "unique_words = np.unique(words)\n",
        "unique_word_index = dict((c, i) for i, c in enumerate(unique_words))"
      ],
      "metadata": {
        "id": "sL6hqFGoP_iU"
      },
      "execution_count": null,
      "outputs": []
    },
    {
      "cell_type": "markdown",
      "source": [
        "### Feature Selection"
      ],
      "metadata": {
        "id": "RG8q0eJ4Q1b3"
      }
    },
    {
      "cell_type": "code",
      "source": [
        "LENGTH = 5\n",
        "previous = []\n",
        "next = []\n",
        "for i in range(len(words) - LENGTH):\n",
        "    previous.append(words[i:i + LENGTH])\n",
        "    next.append(words[i + LENGTH])\n",
        "print(previous[0])\n",
        "print(next[0])"
      ],
      "metadata": {
        "colab": {
          "base_uri": "https://localhost:8080/"
        },
        "id": "J8OTBN3_QEss",
        "outputId": "f1905796-9d92-4743-9374-ae2c33f237fa"
      },
      "execution_count": null,
      "outputs": [
        {
          "output_type": "stream",
          "name": "stdout",
          "text": [
            "['project', 'gutenberg', 's', 'the', 'adventures']\n",
            "of\n"
          ]
        }
      ]
    },
    {
      "cell_type": "code",
      "source": [
        "X = np.zeros((len(previous), LENGTH, len(unique_words)), dtype=bool)\n",
        "Y = np.zeros((len(next), len(unique_words)), dtype=bool)"
      ],
      "metadata": {
        "id": "xXzaRTuVQEiL"
      },
      "execution_count": null,
      "outputs": []
    },
    {
      "cell_type": "code",
      "source": [
        "for i, each_words in enumerate(previous):\n",
        "    for j, each_word in enumerate(each_words):\n",
        "        X[i, j, unique_word_index[each_word]] = 1\n",
        "    Y[i, unique_word_index[next[i]]] = 1"
      ],
      "metadata": {
        "id": "9mkyUEw2QNSz"
      },
      "execution_count": null,
      "outputs": []
    },
    {
      "cell_type": "markdown",
      "source": [
        "## Model"
      ],
      "metadata": {
        "id": "QbxUfBRARA7g"
      }
    },
    {
      "cell_type": "code",
      "source": [
        "model = Sequential()\n",
        "model.add(LSTM(128, input_shape=(LENGTH, len(unique_words))))\n",
        "model.add(Dense(len(unique_words)))\n",
        "model.add(Activation('softmax'))"
      ],
      "metadata": {
        "id": "Qs-bw2mTRACc"
      },
      "execution_count": null,
      "outputs": []
    },
    {
      "cell_type": "code",
      "source": [
        "optimizer = RMSprop(lr=0.01)\n",
        "model.compile(loss='categorical_crossentropy', optimizer=optimizer, metrics=['accuracy'])\n",
        "history = model.fit(X, Y, validation_split=0.05, batch_size=128, epochs=20, shuffle=True).history"
      ],
      "metadata": {
        "colab": {
          "base_uri": "https://localhost:8080/"
        },
        "id": "GP9ESNPzRhhf",
        "outputId": "0fec8ba1-1a34-4f27-c3c3-b57ab3161539"
      },
      "execution_count": null,
      "outputs": [
        {
          "output_type": "stream",
          "name": "stdout",
          "text": [
            "Epoch 1/20\n"
          ]
        },
        {
          "output_type": "stream",
          "name": "stderr",
          "text": [
            "/usr/local/lib/python3.7/dist-packages/keras/optimizers/optimizer_v2/rmsprop.py:135: UserWarning: The `lr` argument is deprecated, use `learning_rate` instead.\n",
            "  super(RMSprop, self).__init__(name, **kwargs)\n"
          ]
        },
        {
          "output_type": "stream",
          "name": "stdout",
          "text": [
            "811/811 [==============================] - 268s 327ms/step - loss: 6.0057 - accuracy: 0.1081 - val_loss: 7.0514 - val_accuracy: 0.1022\n",
            "Epoch 2/20\n",
            "811/811 [==============================] - 271s 334ms/step - loss: 5.7764 - accuracy: 0.1469 - val_loss: 7.8327 - val_accuracy: 0.1018\n",
            "Epoch 3/20\n",
            "811/811 [==============================] - 263s 324ms/step - loss: 5.7378 - accuracy: 0.1753 - val_loss: 7.9695 - val_accuracy: 0.0961\n",
            "Epoch 4/20\n",
            "811/811 [==============================] - 264s 325ms/step - loss: 5.4120 - accuracy: 0.2093 - val_loss: 8.1755 - val_accuracy: 0.1011\n",
            "Epoch 5/20\n",
            "811/811 [==============================] - 261s 322ms/step - loss: 5.1160 - accuracy: 0.2491 - val_loss: 8.5880 - val_accuracy: 0.0967\n",
            "Epoch 6/20\n",
            "811/811 [==============================] - 261s 322ms/step - loss: 4.8402 - accuracy: 0.2868 - val_loss: 8.5174 - val_accuracy: 0.0959\n",
            "Epoch 7/20\n",
            "811/811 [==============================] - 266s 328ms/step - loss: 4.6010 - accuracy: 0.3239 - val_loss: 8.8040 - val_accuracy: 0.0914\n",
            "Epoch 8/20\n",
            "811/811 [==============================] - 279s 344ms/step - loss: 4.3950 - accuracy: 0.3588 - val_loss: 8.8191 - val_accuracy: 0.0815\n",
            "Epoch 9/20\n",
            "811/811 [==============================] - 271s 334ms/step - loss: 4.2187 - accuracy: 0.3969 - val_loss: 8.8145 - val_accuracy: 0.0795\n",
            "Epoch 10/20\n",
            "811/811 [==============================] - 275s 340ms/step - loss: 4.0735 - accuracy: 0.4272 - val_loss: 9.1714 - val_accuracy: 0.0785\n",
            "Epoch 11/20\n",
            "811/811 [==============================] - 274s 337ms/step - loss: 3.9701 - accuracy: 0.4544 - val_loss: 9.2639 - val_accuracy: 0.0688\n",
            "Epoch 12/20\n",
            "811/811 [==============================] - 280s 346ms/step - loss: 3.8908 - accuracy: 0.4779 - val_loss: 9.0680 - val_accuracy: 0.0710\n",
            "Epoch 13/20\n",
            "811/811 [==============================] - 278s 342ms/step - loss: 3.8093 - accuracy: 0.5000 - val_loss: 9.3305 - val_accuracy: 0.0677\n",
            "Epoch 14/20\n",
            "811/811 [==============================] - 279s 345ms/step - loss: 3.7214 - accuracy: 0.5206 - val_loss: 9.3251 - val_accuracy: 0.0650\n",
            "Epoch 15/20\n",
            "811/811 [==============================] - 277s 342ms/step - loss: 3.6498 - accuracy: 0.5379 - val_loss: 9.4281 - val_accuracy: 0.0683\n",
            "Epoch 16/20\n",
            "811/811 [==============================] - 277s 342ms/step - loss: 3.6016 - accuracy: 0.5507 - val_loss: 9.3877 - val_accuracy: 0.0626\n",
            "Epoch 17/20\n",
            "811/811 [==============================] - 275s 339ms/step - loss: 3.5693 - accuracy: 0.5622 - val_loss: 9.5364 - val_accuracy: 0.0630\n",
            "Epoch 18/20\n",
            "811/811 [==============================] - 277s 342ms/step - loss: 3.5237 - accuracy: 0.5740 - val_loss: 9.5092 - val_accuracy: 0.0601\n",
            "Epoch 19/20\n",
            "811/811 [==============================] - 277s 341ms/step - loss: 3.4747 - accuracy: 0.5834 - val_loss: 9.7003 - val_accuracy: 0.0635\n",
            "Epoch 20/20\n",
            "811/811 [==============================] - 272s 335ms/step - loss: 3.4307 - accuracy: 0.5946 - val_loss: 9.7934 - val_accuracy: 0.0632\n"
          ]
        }
      ]
    },
    {
      "cell_type": "code",
      "source": [
        "def format_text(text):\n",
        "    x = np.zeros((1, LENGTH, len(unique_words)))\n",
        "    for t, word in enumerate(text.split()):\n",
        "        print(word)\n",
        "        x[0, t, unique_word_index[word]] = 1\n",
        "    return x\n",
        "\n",
        "def sample(preds, top_n=3):\n",
        "    preds = np.asarray(preds).astype('float64')\n",
        "    preds = np.log(preds)\n",
        "    exp_preds = np.exp(preds)\n",
        "    preds = exp_preds / np.sum(exp_preds)\n",
        "    return heapq.nlargest(top_n, range(len(preds)), preds.take)\n",
        "\n",
        "def predict_next_words(text, n=3):\n",
        "    if text == \"\":\n",
        "        return(\"0\")\n",
        "    x = format_text(text)\n",
        "    preds = model.predict(x, verbose=0)[0]\n",
        "    next_indices = sample(preds, n)\n",
        "    return [unique_words[idx] for idx in next_indices]\n",
        "\n",
        "q =  \"This place is\"\n",
        "print(\"Current sentence: \",q)\n",
        "seq = \" \".join(tokenizer.tokenize(q.lower())[0:5])\n",
        "print(\"next possible words: \", predict_next_words(seq, 5))"
      ],
      "metadata": {
        "colab": {
          "base_uri": "https://localhost:8080/"
        },
        "id": "RR5Y0mkvqYE5",
        "outputId": "ec90f01a-dd5b-4cc0-f771-23103458949e"
      },
      "execution_count": null,
      "outputs": [
        {
          "output_type": "stream",
          "name": "stdout",
          "text": [
            "Current sentence:  This place is\n",
            "this\n",
            "place\n",
            "is\n",
            "next possible words:  ['rift', 'fleecy', 'beautiful', 'waterproof', 'grain']\n"
          ]
        }
      ]
    }
  ]
}